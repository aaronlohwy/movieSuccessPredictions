{
 "cells": [
  {
   "cell_type": "code",
   "execution_count": null,
   "metadata": {
    "collapsed": false
   },
   "outputs": [],
   "source": [
    "Pkg.add(\"PGFPlots\");\n",
    "Pkg.add(\"Iterators\");\n",
    "Pkg.add(\"BayesNets\");\n",
    "Pkg.add(\"LightGraphs\");\n",
    "Pkg.add(\"TikzGraphs\");\n",
    "Pkg.add(\"Discretizers\");\n",
    "Pkg.add(\"RDatasets\");\n",
    "Pkg.add(\"Plots\");"
   ]
  },
  {
   "cell_type": "code",
   "execution_count": null,
   "metadata": {
    "collapsed": true
   },
   "outputs": [],
   "source": [
    "using Iterators\n",
    "using LightGraphs\n",
    "using BayesNets\n",
    "using PGFPlots\n",
    "using TikzGraphs\n",
    "using Discretizers\n",
    "using RDatasets\n",
    "using Plots"
   ]
  },
  {
   "cell_type": "code",
   "execution_count": null,
   "metadata": {
    "collapsed": false,
    "scrolled": true
   },
   "outputs": [],
   "source": [
    "movieData = readtable(\"movie_metadata.csv\");"
   ]
  },
  {
   "cell_type": "code",
   "execution_count": null,
   "metadata": {
    "collapsed": true
   },
   "outputs": [],
   "source": [
    "#variables:\n",
    "#Gross (query variable)\n",
    "#Budget (evidence/input variable)\n",
    "#Genre (evidence/input variable)\n",
    "#IMDB score (evidence/input variable)\n",
    "#Number of critic reviews (evidence/input variable)\n",
    "#Number of Movie facebook likes\n",
    "#Total cast facebook likes\n",
    "#Number of faces in movie poster\n",
    "#Director facebook likes\n",
    "#Content rating\n",
    "#Duration\n",
    "#Title year\n"
   ]
  },
  {
   "cell_type": "code",
   "execution_count": null,
   "metadata": {
    "collapsed": false
   },
   "outputs": [],
   "source": [
    "##### MANUAL BINNING #####\n",
    "\n",
    "titleYear_edges = [1980,2000,2005,2010,2020]\n",
    "\n",
    "budget_edges = [0,10000001,35000001,300000001]\n",
    "\n",
    "gross_edges = [0,10000000,50000000,200000000,500000000,800000000]\n",
    "\n",
    "duration_edges = [91,121,151,331]\n",
    "\n",
    "numMovieFacebookLikes_edges = [1,10000,400000]\n",
    "\n",
    "directorFacebookLikes_edges = [1,10000,40000]\n",
    "\n",
    "castMovieLikes_edges = [100,10000,40000,700000]\n",
    "\n",
    "numFacesInPoster_edges = [1,2,6,20]\n",
    "\n",
    "imdbScore_edges = [3.1,4.1,5.1,6.1,7.1,8.1,9.1,10]\n",
    "\n",
    "critic_edges = [101,201,301,401,820]"
   ]
  },
  {
   "cell_type": "code",
   "execution_count": null,
   "metadata": {
    "collapsed": true
   },
   "outputs": [],
   "source": [
    "##### UNIFORM WIDTH BINNING #####\n",
    "#nbinsLarge = 7\n",
    "#nbinsSmall = 3\n",
    "\n",
    "titleYear_bins = 5\n",
    "titleYear_edges = binedges(DiscretizeUniformWidth(titleYear_bins), movieData[:title_year])\n",
    "\n",
    "budget_bins = 3\n",
    "budget_edges = binedges(DiscretizeUniformWidth(budget_bins), movieData[:budget])\n",
    "\n",
    "gross_bins = 5\n",
    "gross_edges = binedges(DiscretizeUniformWidth(gross_bins), movieData[:gross])\n",
    "\n",
    "duration_bins = 4\n",
    "duration_edges = binedges(DiscretizeUniformWidth(duration_bins), movieData[:duration])\n",
    "\n",
    "numMovieFacebookLikes_bins = 3\n",
    "numMovieFacebookLikes_edges = binedges(DiscretizeUniformWidth(numMoveFacebookLikes_bins), movieData[:movie_facebook_likes])\n",
    "\n",
    "directorFacebookLikes_bins = 3\n",
    "directorFacebookLikes_edges = binedges(DiscretizeUniformWidth(directorFacebookLikes_bins), movieData[:director_facebook_likes])\n",
    "\n",
    "castMovieLikes_bins = 4\n",
    "castMovieLikes_edges = binedges(DiscretizeUniformWidth(castMovieLikes_bins), movieData[:cast_total_facebook_likes])\n",
    "\n",
    "numFacesInPoster_bins = 4\n",
    "numFacesInPoster_edges = binedges(DiscretizeUniformWidth(numFacesInPoster_bins), movieData[:facenumber_in_poster])\n",
    "\n",
    "imdbScore_bins = 8\n",
    "imdbScore_edges = binedges(DiscretizeUniformWidth(imdbScore_bins), movieData[:imdb_score])\n",
    "\n",
    "critic_bins = 5\n",
    "critic_edges = binedges(DiscretizeUniformWidth(critic_bins), movieData[:num_critic_for_reviews])\n"
   ]
  },
  {
   "cell_type": "code",
   "execution_count": null,
   "metadata": {
    "collapsed": true
   },
   "outputs": [],
   "source": [
    "##### UNIFORM COUNT BINNING #####\n",
    "#nbinsLarge = 7\n",
    "#nbinsSmall = 3\n",
    "\n",
    "titleYear_bins = 5\n",
    "titleYear_edges = binedges(DiscretizeUniformCount(titleYear_bins), movieData[:title_year])\n",
    "\n",
    "budget_bins = 3\n",
    "budget_edges = binedges(DiscretizeUniformCount(budget_bins), movieData[:budget])\n",
    "\n",
    "gross_bins = 5\n",
    "gross_edges = binedges(DiscretizeUniformCount(gross_bins), movieData[:gross])\n",
    "\n",
    "duration_bins = 4\n",
    "duration_edges = binedges(DiscretizeUniformCount(duration_bins), movieData[:duration])\n",
    "\n",
    "numMovieFacebookLikes_bins = 3\n",
    "numMovieFacebookLikes_edges = binedges(DiscretizeUniformCount(numMoveFacebookLikes_bins), movieData[:movie_facebook_likes])\n",
    "\n",
    "directorFacebookLikes_bins = 3\n",
    "directorFacebookLikes_edges = binedges(DiscretizeUniformCount(directorFacebookLikes_bins), movieData[:director_facebook_likes])\n",
    "\n",
    "castMovieLikes_bins = 4\n",
    "castMovieLikes_edges = binedges(DiscretizeUniformCount(castMovieLikes_bins), movieData[:cast_total_facebook_likes])\n",
    "\n",
    "numFacesInPoster_bins = 4\n",
    "numFacesInPoster_edges = binedges(DiscretizeUniformCount(numFacesInPoster_bins), movieData[:facenumber_in_poster])\n",
    "\n",
    "imdbScore_bins = 8\n",
    "imdbScore_edges = binedges(DiscretizeUniformCount(imdbScore_bins), movieData[:imdb_score])\n",
    "\n",
    "critic_bins = 5\n",
    "critic_edges = binedges(DiscretizeUniformCount(critic_bins), movieData[:num_critic_for_reviews])"
   ]
  },
  {
   "cell_type": "code",
   "execution_count": null,
   "metadata": {
    "collapsed": false
   },
   "outputs": [],
   "source": [
    "##### BAYESIAN BLOCKS BINNING #####\n",
    "\n",
    "titleYear_edges = binedges(DiscretizeBayesianBlocks(), movieData[:title_year])\n",
    "\n",
    "budget_edges = binedges(DiscretizeBayesianBlocks(), movieData[:budget])\n",
    "\n",
    "gross_edges = binedges(DiscretizeBayesianBlocks(), movieData[:gross])\n",
    "\n",
    "duration_edges = binedges(DiscretizeBayesianBlocks(), movieData[:duration])\n",
    "\n",
    "numMovieFacebookLikes_edges = binedges(DiscretizeBayesianBlocks(), movieData[:movie_facebook_likes])\n",
    "\n",
    "directorFacebookLikes_edges = binedges(DiscretizeBayesianBlocks(), movieData[:director_facebook_likes])\n",
    "\n",
    "castMovieLikes_edges = binedges(DiscretizeBayesianBlocks(), movieData[:cast_total_facebook_likes])\n",
    "\n",
    "numFacesInPoster_edges = binedges(DiscretizeBayesianBlocks(), movieData[:facenumber_in_poster])\n",
    "\n",
    "imdbScore_edges = binedges(DiscretizeBayesianBlocks(), movieData[:imdb_score])\n",
    "\n",
    "critic_edges = binedges(DiscretizeBayesianBlocks(), movieData[:num_critic_for_reviews])"
   ]
  },
  {
   "cell_type": "code",
   "execution_count": null,
   "metadata": {
    "collapsed": false
   },
   "outputs": [],
   "source": [
    "#data discretization\n",
    "contentRating_discretizer = CategoricalDiscretizer(movieData[:content_rating])\n",
    "\n",
    "titleYear_discretizer = LinearDiscretizer(titleYear_edges)\n",
    "\n",
    "budget_discretizer = LinearDiscretizer(budget_edges)\n",
    "\n",
    "gross_discretizer = LinearDiscretizer(gross_edges)\n",
    "\n",
    "duration_discretizer = LinearDiscretizer(duration_edges)\n",
    "\n",
    "numMovieFacebookLikes_discretizer = LinearDiscretizer(numMovieFacebookLikes_edges)\n",
    "\n",
    "directorFacebookLikes_discretizer = LinearDiscretizer(directorFacebookLikes_edges)\n",
    "\n",
    "castMovieLikes_discretizer = LinearDiscretizer(castMovieLikes_edges)\n",
    "\n",
    "numFacesInPoster_discretizer = LinearDiscretizer(numFacesInPoster_edges)\n",
    "\n",
    "imdbScore_discretizer = LinearDiscretizer(imdbScore_edges)\n",
    "\n",
    "critic_discretizer = LinearDiscretizer(critic_edges)"
   ]
  },
  {
   "cell_type": "code",
   "execution_count": null,
   "metadata": {
    "collapsed": false,
    "scrolled": false
   },
   "outputs": [],
   "source": [
    "dataDiscretized = DataFrame(\n",
    "    gross = encode(gross_discretizer, movieData[:gross]),\n",
    "    budget = encode(budget_discretizer, movieData[:budget]),\n",
    "    numGenres = movieData[:num_genres],\n",
    "    imdbScore = encode(imdbScore_discretizer, movieData[:imdb_score]),\n",
    "    numCriticReviews = encode(critic_discretizer, movieData[:num_critic_for_reviews]),\n",
    "    numMovieFacebookLikes = encode(numMovieFacebookLikes_discretizer, movieData[:movie_facebook_likes]),\n",
    "    castMovieLikes = encode(castMovieLikes_discretizer, movieData[:cast_total_facebook_likes]),\n",
    "    numFacesInPoster = encode(numFacesInPoster_discretizer, movieData[:facenumber_in_poster]),\n",
    "    directorFacebookLikes = encode(directorFacebookLikes_discretizer, movieData[:director_facebook_likes]),\n",
    "    contentRating = encode(contentRating_discretizer, movieData[:content_rating]),\n",
    "    duration = encode(duration_discretizer, movieData[:duration]),\n",
    "    titleYear = encode(titleYear_discretizer, movieData[:title_year]),\n",
    ");"
   ]
  },
  {
   "cell_type": "code",
   "execution_count": null,
   "metadata": {
    "collapsed": false
   },
   "outputs": [],
   "source": [
    "totalSize = length(dataDiscretized[1])\n",
    "percentageTrain = 0.9\n",
    "lastTrainExample = Int(floor(percentageTrain*totalSize))"
   ]
  },
  {
   "cell_type": "code",
   "execution_count": null,
   "metadata": {
    "collapsed": false
   },
   "outputs": [],
   "source": [
    "writetable(\"dataDiscretized.csv\", dataDiscretized)\n",
    "\n",
    "dataDiscretizedTrain = dataDiscretized[1:lastTrainExample,:];\n",
    "dataDiscretizedTest = dataDiscretized[lastTrainExample+1:totalSize,:];\n",
    "#display(dataDiscretizedTrain)\n",
    "#display(dataDiscretizedTest)"
   ]
  },
  {
   "cell_type": "code",
   "execution_count": null,
   "metadata": {
    "collapsed": false
   },
   "outputs": [],
   "source": [
    "##structure learning\n",
    "#K2\n",
    "params = K2GraphSearch([:budget, :gross, :numFacesInPoster, :directorFacebookLikes, :titleYear, :duration, :contentRating, :castMovieLikes, :imdbScore, :numCriticReviews, :numMovieFacebookLikes],\n",
    "                        DiscreteCPD,\n",
    "                        max_n_parents=4);\n",
    "#CategoricalCPD{Categorical{Float64}}\n",
    "#DiscreteCPD\n",
    "bn = fit(DiscreteBayesNet, dataDiscretizedTrain, params)"
   ]
  },
  {
   "cell_type": "code",
   "execution_count": null,
   "metadata": {
    "collapsed": false
   },
   "outputs": [],
   "source": [
    "#greedy hill climbing\n",
    "params2 = GreedyHillClimbing(ScoreComponentCache(dataDiscretized), max_n_parents=3, prior=UniformPrior())\n",
    "bn2 = fit(DiscreteBayesNet, dataDiscretized, params2)"
   ]
  },
  {
   "cell_type": "code",
   "execution_count": null,
   "metadata": {
    "collapsed": false
   },
   "outputs": [],
   "source": [
    "bayesian_score(bn, dataDiscretizedTrain)"
   ]
  },
  {
   "cell_type": "code",
   "execution_count": null,
   "metadata": {
    "collapsed": false
   },
   "outputs": [],
   "source": [
    "function likelihoodWeightedSampling(table, value)\n",
    "    numerator = 0\n",
    "    denominator = 0  \n",
    "    for i = 1:length(table[:,1])\n",
    "        row = table[i,:]\n",
    "        if row[:gross][1] == value\n",
    "            numerator = numerator + row[:p][1]\n",
    "        end\n",
    "        denominator = denominator + row[:p][1]\n",
    "    end\n",
    "    return numerator./denominator\n",
    "end"
   ]
  },
  {
   "cell_type": "code",
   "execution_count": null,
   "metadata": {
    "collapsed": false
   },
   "outputs": [],
   "source": [
    "#getMostLikelyClass(table,5)"
   ]
  },
  {
   "cell_type": "code",
   "execution_count": null,
   "metadata": {
    "collapsed": false
   },
   "outputs": [],
   "source": [
    "function getMostLikelyClass(table,numClasses)\n",
    "    highestLikelihood = 0\n",
    "    mostLikelyClass = -1\n",
    "    classProbabilities = zeros(numClasses)\n",
    "    for i = 1:length(table[:,1])\n",
    "        row = table[i,:]\n",
    "        grossCategory = row[:gross][1]\n",
    "        classProbabilities[grossCategory]+= row[:p][1]\n",
    "        if classProbabilities[grossCategory] > highestLikelihood\n",
    "            highestLikelihood = classProbabilities[grossCategory]\n",
    "            mostLikelyClass = grossCategory\n",
    "        end\n",
    "    end\n",
    "    return mostLikelyClass\n",
    "end"
   ]
  },
  {
   "cell_type": "code",
   "execution_count": null,
   "metadata": {
    "collapsed": false
   },
   "outputs": [],
   "source": [
    "function getPredictionError(testDataTable)\n",
    "    numMistakes = 0\n",
    "    for i = 1:length(testDataTable[:,1])\n",
    "        row = testDataTable[i,:]\n",
    "        gross = row[:gross][1]\n",
    "        budget = row[:budget][1]\n",
    "        imdbScore = row[:imdbScore][1]\n",
    "        numCriticReviews = row[:numCriticReviews][1]\n",
    "        numGenres = row[:numGenres][1]\n",
    "        println(i)\n",
    "        table = rand_table_weighted(bn2; nsamples=1000, consistent_with=Assignment(:budget=>budget,:imdbScore=>imdbScore,:numCriticReviews=>numCriticReviews, :numGenres=>numGenres))\n",
    "        #println(\"here\") \n",
    "        estimatedTable = estimate(table)\n",
    "        \n",
    "        predictedGrossCategory = getMostLikelyClass(estimatedTable,nbinsSmall)\n",
    "        \n",
    "        if predictedGrossCategory != gross\n",
    "            numMistakes += 1\n",
    "        end\n",
    "        \n",
    "    end\n",
    "    return numMistakes/length(testDataTable[:,1])\n",
    "end"
   ]
  },
  {
   "cell_type": "code",
   "execution_count": null,
   "metadata": {
    "collapsed": false
   },
   "outputs": [],
   "source": [
    "getPredictionError(dataDiscretizedTest)"
   ]
  },
  {
   "cell_type": "code",
   "execution_count": null,
   "metadata": {
    "collapsed": false
   },
   "outputs": [],
   "source": [
    "## DEBUGGING CODE - IGNORE.\n",
    "row = dataDiscretizedTest[34,:]\n",
    "display(row)\n",
    "display(critic_edges)\n",
    "#table(bn, :numCriticReviews)\n",
    "#count(bn, :numCriticReviews, dataDiscretized)\n",
    "table = rand_table_weighted(bn; nsamples=1000, consistent_with=Assignment(:budget=>1,:imdbScore=>6,:numCriticReviews=>4, :numGenres=>3))\n",
    "#estimatedTable = estimate(table)"
   ]
  }
 ],
 "metadata": {
  "anaconda-cloud": {},
  "kernelspec": {
   "display_name": "Julia 0.5.0",
   "language": "julia",
   "name": "julia-0.5"
  },
  "language_info": {
   "file_extension": ".jl",
   "mimetype": "application/julia",
   "name": "julia",
   "version": "0.5.0"
  }
 },
 "nbformat": 4,
 "nbformat_minor": 0
}
